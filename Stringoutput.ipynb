{
 "cells": [
  {
   "cell_type": "code",
   "execution_count": 2,
   "metadata": {},
   "outputs": [
    {
     "data": {
      "text/plain": [
       "['http://www.espncricinfo.com/series/8039/game/1144494/england-vs-bangladesh-12th-match-icc-cricket-world-cup-2019',\n",
       " 'http://www.espncricinfo.com/series/8039/game/1144495/afghanistan-vs-new-zealand-13th-match-icc-cricket-world-cup-2019',\n",
       " 'http://www.espncricinfo.com/series/19249/game/1183603/india-a-vs-sri-lanka-a-2nd-unofficial-odi-sri-lanka-a-in-india-2019',\n",
       " 'http://www.espncricinfo.com/series/11132/game/1185284/tribhuwan-army-club-vs-nepal-police-club-final-prime-minister-cup-2019']"
      ]
     },
     "execution_count": 2,
     "metadata": {},
     "output_type": "execute_result"
    }
   ],
   "source": [
    "import requests\n",
    "from bs4 import BeautifulSoup\n",
    "import matplotlib.pyplot as plt\n",
    "\n",
    "url =\"http://www.espncricinfo.com/scores\"\n",
    "res = requests.get(url)\n",
    "soup = BeautifulSoup(res.content,'html.parser')\n",
    "\n",
    "\n",
    "lst = []\n",
    "for i in soup.find('div',{'class':'scoreCollection__content cricket'}).find_all('a'):\n",
    "    #print(i.get('href'))\n",
    "    if  'http' in str(i.get('href')):\n",
    "        lst.append(str(i.get('href')))\n",
    "lst"
   ]
  },
  {
   "cell_type": "code",
   "execution_count": 3,
   "metadata": {},
   "outputs": [],
   "source": [
    "#This function will print the live stat...\n",
    "def printstat(info):\n",
    "    print(info[0],\" - \",info[3])\n",
    "    if info[4] == info[5]:\n",
    "        try:\n",
    "            print(info[4],\" - \",info[7])\n",
    "        except:\n",
    "            print(info[4],\" - Yet to play\")\n",
    "        print(\"Overs - \",info[8])\n",
    "    else:\n",
    "        print(\"Overs - \",info[4])\n",
    "        try:\n",
    "            print(info[5],\" - \",info[8])\n",
    "        except:\n",
    "            print(info[5],\" - Yet to play\")"
   ]
  },
  {
   "cell_type": "code",
   "execution_count": 14,
   "metadata": {},
   "outputs": [
    {
     "name": "stdout",
     "output_type": "stream",
     "text": [
      "England  -  386/6 * \n",
      "Overs -  (50 ov)\n",
      "Bangladesh  - Yet to play\n",
      "\n",
      "\n",
      "Afghanistan  -  66/3 * \n",
      "Overs -  (12.3/50 ov)\n",
      "New Zealand  - Yet to play\n",
      "\n",
      "\n"
     ]
    }
   ],
   "source": [
    "out = []\n",
    "for i in lst:\n",
    "    res = requests.get(i)\n",
    "    soup = BeautifulSoup(res.content,'html.parser')\n",
    "    cont = []\n",
    "    info = []\n",
    "    try:\n",
    "        if 'Result' not in soup.find('span',{'class':'cscore_time'}).string:\n",
    "            for i in soup.find('span',{'class':'cscore_notes_game'}).strings:\n",
    "                out.append(i)\n",
    "            for i in soup.find('ul',{'class':'cscore_competitors'}).strings:\n",
    "                if '\\n' not in i:\n",
    "                    info.append(i)\n",
    "            printstat(info)\n",
    "            print(\"\\n\")\n",
    "    except:\n",
    "        pass"
   ]
  },
  {
   "cell_type": "code",
   "execution_count": 5,
   "metadata": {},
   "outputs": [
    {
     "data": {
      "text/plain": [
       "['Bangladesh won the toss and elected to field',\n",
       " 'New Zealand won the toss and elected to field']"
      ]
     },
     "execution_count": 5,
     "metadata": {},
     "output_type": "execute_result"
    }
   ],
   "source": [
    "#use this list as an input for voice output.\n",
    "out"
   ]
  },
  {
   "cell_type": "code",
   "execution_count": null,
   "metadata": {},
   "outputs": [],
   "source": []
  },
  {
   "cell_type": "code",
   "execution_count": null,
   "metadata": {},
   "outputs": [],
   "source": []
  }
 ],
 "metadata": {
  "kernelspec": {
   "display_name": "Python 3",
   "language": "python",
   "name": "python3"
  }
 },
 "nbformat": 4,
 "nbformat_minor": 2
}
